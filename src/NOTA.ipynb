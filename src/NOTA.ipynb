{
    "cells": [
        {
            "cell_type": "markdown",
            "metadata": {},
            "source": [
                "# Explore here"
            ]
        },
        {
            "cell_type": "code",
            "execution_count": 171,
            "metadata": {},
            "outputs": [],
            "source": [
                "import pandas as pd\n",
                "import matplotlib.pyplot as plt\n",
                "import seaborn as sns\n",
                "import numpy as np \n",
                "from sklearn.model_selection import train_test_split\n",
                "from sklearn.feature_extraction.text import CountVectorizer\n",
                "from sklearn.naive_bayes import BernoulliNB\n",
                "from sklearn.naive_bayes import GaussianNB\n",
                "from sklearn.naive_bayes import MultinomialNB\n",
                "from sklearn.metrics import accuracy_score , classification_report\n",
                "from sklearn.model_selection import GridSearchCV"
            ]
        },
        {
            "cell_type": "code",
            "execution_count": null,
            "metadata": {},
            "outputs": [
                {
                    "data": {
                        "text/html": [
                            "<div>\n",
                            "<style scoped>\n",
                            "    .dataframe tbody tr th:only-of-type {\n",
                            "        vertical-align: middle;\n",
                            "    }\n",
                            "\n",
                            "    .dataframe tbody tr th {\n",
                            "        vertical-align: top;\n",
                            "    }\n",
                            "\n",
                            "    .dataframe thead th {\n",
                            "        text-align: right;\n",
                            "    }\n",
                            "</style>\n",
                            "<table border=\"1\" class=\"dataframe\">\n",
                            "  <thead>\n",
                            "    <tr style=\"text-align: right;\">\n",
                            "      <th></th>\n",
                            "      <th>package_name</th>\n",
                            "      <th>review</th>\n",
                            "      <th>polarity</th>\n",
                            "    </tr>\n",
                            "  </thead>\n",
                            "  <tbody>\n",
                            "    <tr>\n",
                            "      <th>0</th>\n",
                            "      <td>com.facebook.katana</td>\n",
                            "      <td>privacy at least put some option appear offli...</td>\n",
                            "      <td>0</td>\n",
                            "    </tr>\n",
                            "    <tr>\n",
                            "      <th>1</th>\n",
                            "      <td>com.facebook.katana</td>\n",
                            "      <td>messenger issues ever since the last update, ...</td>\n",
                            "      <td>0</td>\n",
                            "    </tr>\n",
                            "    <tr>\n",
                            "      <th>2</th>\n",
                            "      <td>com.facebook.katana</td>\n",
                            "      <td>profile any time my wife or anybody has more ...</td>\n",
                            "      <td>0</td>\n",
                            "    </tr>\n",
                            "    <tr>\n",
                            "      <th>3</th>\n",
                            "      <td>com.facebook.katana</td>\n",
                            "      <td>the new features suck for those of us who don...</td>\n",
                            "      <td>0</td>\n",
                            "    </tr>\n",
                            "    <tr>\n",
                            "      <th>4</th>\n",
                            "      <td>com.facebook.katana</td>\n",
                            "      <td>forced reload on uploading pic on replying co...</td>\n",
                            "      <td>0</td>\n",
                            "    </tr>\n",
                            "  </tbody>\n",
                            "</table>\n",
                            "</div>"
                        ],
                        "text/plain": [
                            "          package_name                                             review  \\\n",
                            "0  com.facebook.katana   privacy at least put some option appear offli...   \n",
                            "1  com.facebook.katana   messenger issues ever since the last update, ...   \n",
                            "2  com.facebook.katana   profile any time my wife or anybody has more ...   \n",
                            "3  com.facebook.katana   the new features suck for those of us who don...   \n",
                            "4  com.facebook.katana   forced reload on uploading pic on replying co...   \n",
                            "\n",
                            "   polarity  \n",
                            "0         0  \n",
                            "1         0  \n",
                            "2         0  \n",
                            "3         0  \n",
                            "4         0  "
                        ]
                    },
                    "execution_count": 156,
                    "metadata": {},
                    "output_type": "execute_result"
                }
            ],
            "source": [
                "url = \"https://raw.githubusercontent.com/4GeeksAcademy/naive-bayes-project-tutorial/main/playstore_reviews.csv\"\n",
                "total_data = pd.read_csv(url, sep= ',')  \n",
                "\n",
                "total_data.head()"
            ]
        },
        {
            "cell_type": "code",
            "execution_count": 157,
            "metadata": {},
            "outputs": [
                {
                    "name": "stdout",
                    "output_type": "stream",
                    "text": [
                        "Variables numéricas: ['polarity']\n",
                        "Variables no numéricas: ['package_name', 'review']\n"
                    ]
                }
            ],
            "source": [
                "target = 'review'\n",
                "# Variables numéricas\n",
                "numericas = total_data.select_dtypes(include=['number']).columns.tolist()\n",
                "print(\"Variables numéricas:\", numericas)\n",
                "\n",
                "# Variables no numéricas (categóricas, texto, etc.)\n",
                "no_numericas = total_data.select_dtypes(exclude=['number']).columns.tolist()\n",
                "print(\"Variables no numéricas:\", no_numericas)"
            ]
        },
        {
            "cell_type": "code",
            "execution_count": 158,
            "metadata": {},
            "outputs": [
                {
                    "data": {
                        "text/html": [
                            "<div>\n",
                            "<style scoped>\n",
                            "    .dataframe tbody tr th:only-of-type {\n",
                            "        vertical-align: middle;\n",
                            "    }\n",
                            "\n",
                            "    .dataframe tbody tr th {\n",
                            "        vertical-align: top;\n",
                            "    }\n",
                            "\n",
                            "    .dataframe thead th {\n",
                            "        text-align: right;\n",
                            "    }\n",
                            "</style>\n",
                            "<table border=\"1\" class=\"dataframe\">\n",
                            "  <thead>\n",
                            "    <tr style=\"text-align: right;\">\n",
                            "      <th></th>\n",
                            "      <th>package_name</th>\n",
                            "      <th>review</th>\n",
                            "      <th>polarity</th>\n",
                            "    </tr>\n",
                            "  </thead>\n",
                            "  <tbody>\n",
                            "    <tr>\n",
                            "      <th>0</th>\n",
                            "      <td>com.facebook.katana</td>\n",
                            "      <td>privacy at least put some option appear offlin...</td>\n",
                            "      <td>0</td>\n",
                            "    </tr>\n",
                            "    <tr>\n",
                            "      <th>1</th>\n",
                            "      <td>com.facebook.katana</td>\n",
                            "      <td>messenger issues ever since the last update, i...</td>\n",
                            "      <td>0</td>\n",
                            "    </tr>\n",
                            "    <tr>\n",
                            "      <th>2</th>\n",
                            "      <td>com.facebook.katana</td>\n",
                            "      <td>profile any time my wife or anybody has more t...</td>\n",
                            "      <td>0</td>\n",
                            "    </tr>\n",
                            "    <tr>\n",
                            "      <th>3</th>\n",
                            "      <td>com.facebook.katana</td>\n",
                            "      <td>the new features suck for those of us who don'...</td>\n",
                            "      <td>0</td>\n",
                            "    </tr>\n",
                            "    <tr>\n",
                            "      <th>4</th>\n",
                            "      <td>com.facebook.katana</td>\n",
                            "      <td>forced reload on uploading pic on replying com...</td>\n",
                            "      <td>0</td>\n",
                            "    </tr>\n",
                            "    <tr>\n",
                            "      <th>...</th>\n",
                            "      <td>...</td>\n",
                            "      <td>...</td>\n",
                            "      <td>...</td>\n",
                            "    </tr>\n",
                            "    <tr>\n",
                            "      <th>886</th>\n",
                            "      <td>com.rovio.angrybirds</td>\n",
                            "      <td>loved it i loooooooooooooovvved it because it ...</td>\n",
                            "      <td>1</td>\n",
                            "    </tr>\n",
                            "    <tr>\n",
                            "      <th>887</th>\n",
                            "      <td>com.rovio.angrybirds</td>\n",
                            "      <td>all time legendary game the birthday party lev...</td>\n",
                            "      <td>1</td>\n",
                            "    </tr>\n",
                            "    <tr>\n",
                            "      <th>888</th>\n",
                            "      <td>com.rovio.angrybirds</td>\n",
                            "      <td>ads are way to heavy listen to the bad reviews...</td>\n",
                            "      <td>0</td>\n",
                            "    </tr>\n",
                            "    <tr>\n",
                            "      <th>889</th>\n",
                            "      <td>com.rovio.angrybirds</td>\n",
                            "      <td>fun works perfectly well. ads aren't as annoyi...</td>\n",
                            "      <td>1</td>\n",
                            "    </tr>\n",
                            "    <tr>\n",
                            "      <th>890</th>\n",
                            "      <td>com.rovio.angrybirds</td>\n",
                            "      <td>they're everywhere i see angry birds everywher...</td>\n",
                            "      <td>1</td>\n",
                            "    </tr>\n",
                            "  </tbody>\n",
                            "</table>\n",
                            "<p>891 rows × 3 columns</p>\n",
                            "</div>"
                        ],
                        "text/plain": [
                            "             package_name                                             review  \\\n",
                            "0     com.facebook.katana  privacy at least put some option appear offlin...   \n",
                            "1     com.facebook.katana  messenger issues ever since the last update, i...   \n",
                            "2     com.facebook.katana  profile any time my wife or anybody has more t...   \n",
                            "3     com.facebook.katana  the new features suck for those of us who don'...   \n",
                            "4     com.facebook.katana  forced reload on uploading pic on replying com...   \n",
                            "..                    ...                                                ...   \n",
                            "886  com.rovio.angrybirds  loved it i loooooooooooooovvved it because it ...   \n",
                            "887  com.rovio.angrybirds  all time legendary game the birthday party lev...   \n",
                            "888  com.rovio.angrybirds  ads are way to heavy listen to the bad reviews...   \n",
                            "889  com.rovio.angrybirds  fun works perfectly well. ads aren't as annoyi...   \n",
                            "890  com.rovio.angrybirds  they're everywhere i see angry birds everywher...   \n",
                            "\n",
                            "     polarity  \n",
                            "0           0  \n",
                            "1           0  \n",
                            "2           0  \n",
                            "3           0  \n",
                            "4           0  \n",
                            "..        ...  \n",
                            "886         1  \n",
                            "887         1  \n",
                            "888         0  \n",
                            "889         1  \n",
                            "890         1  \n",
                            "\n",
                            "[891 rows x 3 columns]"
                        ]
                    },
                    "execution_count": 158,
                    "metadata": {},
                    "output_type": "execute_result"
                }
            ],
            "source": [
                "total_data[\"review\"] = total_data[\"review\"].str.strip().str.lower()\n",
                "total_data\n"
            ]
        },
        {
            "cell_type": "code",
            "execution_count": 159,
            "metadata": {},
            "outputs": [
                {
                    "data": {
                        "text/plain": [
                            "(891, 3)"
                        ]
                    },
                    "execution_count": 159,
                    "metadata": {},
                    "output_type": "execute_result"
                }
            ],
            "source": [
                "total_data.shape"
            ]
        },
        {
            "cell_type": "code",
            "execution_count": 160,
            "metadata": {},
            "outputs": [
                {
                    "name": "stdout",
                    "output_type": "stream",
                    "text": [
                        "<class 'pandas.core.frame.DataFrame'>\n",
                        "RangeIndex: 891 entries, 0 to 890\n",
                        "Data columns (total 3 columns):\n",
                        " #   Column        Non-Null Count  Dtype \n",
                        "---  ------        --------------  ----- \n",
                        " 0   package_name  891 non-null    object\n",
                        " 1   review        891 non-null    object\n",
                        " 2   polarity      891 non-null    int64 \n",
                        "dtypes: int64(1), object(2)\n",
                        "memory usage: 21.0+ KB\n"
                    ]
                }
            ],
            "source": [
                "total_data.info()"
            ]
        },
        {
            "cell_type": "code",
            "execution_count": 161,
            "metadata": {},
            "outputs": [
                {
                    "data": {
                        "text/plain": [
                            "package_name    0\n",
                            "review          0\n",
                            "polarity        0\n",
                            "dtype: int64"
                        ]
                    },
                    "execution_count": 161,
                    "metadata": {},
                    "output_type": "execute_result"
                }
            ],
            "source": [
                "# VERIFICO SI HAY DATOS NULOS \n",
                "total_data.isnull().sum().sort_values(ascending=False)"
            ]
        },
        {
            "cell_type": "code",
            "execution_count": 162,
            "metadata": {},
            "outputs": [
                {
                    "name": "stdout",
                    "output_type": "stream",
                    "text": [
                        "                   package_name  \\\n",
                        "212  com.supercell.clashofclans   \n",
                        "222  com.supercell.clashofclans   \n",
                        "\n",
                        "                                                review  polarity  \n",
                        "212  this update sucks!!! i can't open the game any...         0  \n",
                        "222  this update sucks!!! i can't open the game any...         0  \n"
                    ]
                }
            ],
            "source": [
                "duplicados = total_data[total_data.duplicated(keep=False)]\n",
                "\n",
                "print(duplicados)"
            ]
        },
        {
            "cell_type": "code",
            "execution_count": 163,
            "metadata": {},
            "outputs": [
                {
                    "data": {
                        "text/plain": [
                            "(891, 2)"
                        ]
                    },
                    "execution_count": 163,
                    "metadata": {},
                    "output_type": "execute_result"
                }
            ],
            "source": [
                "#VARIABLES A ELIMINAR \n",
                "total_data.drop(['package_name'], axis = 1, inplace = True)\n",
                "total_data.shape"
            ]
        },
        {
            "cell_type": "code",
            "execution_count": 164,
            "metadata": {},
            "outputs": [
                {
                    "name": "stdout",
                    "output_type": "stream",
                    "text": [
                        "     polarity\n",
                        "331         0\n",
                        "733         0\n",
                        "382         0\n",
                        "704         1\n",
                        "813         1\n",
                        "..        ...\n",
                        "106         0\n",
                        "270         0\n",
                        "860         1\n",
                        "435         0\n",
                        "102         0\n",
                        "\n",
                        "[712 rows x 1 columns]\n",
                        "     polarity\n",
                        "709         0\n",
                        "439         1\n",
                        "840         1\n",
                        "720         0\n",
                        "39          0\n",
                        "..        ...\n",
                        "433         0\n",
                        "773         0\n",
                        "25          0\n",
                        "84          0\n",
                        "10          0\n",
                        "\n",
                        "[179 rows x 1 columns]\n"
                    ]
                }
            ],
            "source": [
                "x = total_data.drop(columns=[target])\n",
                "y = total_data[target]\n",
                "\n",
                "x_train_total_data, x_test_total_data, y_train, y_test = train_test_split(x, y, test_size=0.2, random_state=42)\n",
                "print(x_train_total_data)\n",
                "print(x_test_total_data)\n"
            ]
        },
        {
            "cell_type": "code",
            "execution_count": 165,
            "metadata": {},
            "outputs": [
                {
                    "name": "stdout",
                    "output_type": "stream",
                    "text": [
                        "Matriz de recuento de palabras (shape): (891, 3721)\n",
                        "[[0 0 0 0 0 0 0 0 0 0]\n",
                        " [0 0 0 0 0 0 0 0 0 0]\n",
                        " [0 0 0 0 0 0 0 0 0 0]\n",
                        " [0 0 0 0 0 0 0 0 0 0]\n",
                        " [0 0 0 0 0 0 0 0 0 0]]\n"
                    ]
                }
            ],
            "source": [
                "vec_model = CountVectorizer(stop_words = \"english\")\n",
                "X_train = vec_model.fit_transform(x_train_total_data).toarray()\n",
                "X_test = vec_model.transform(x_test_total_data).toarray()\n",
                "\n",
                "text_data = total_data['review']\n",
                "\n",
                "X_counts = vec_model.fit_transform(text_data)\n",
                "\n",
                "print(\"Matriz de recuento de palabras (shape):\", X_counts.shape)\n",
                "print(X_counts[:5,:10].toarray())"
            ]
        },
        {
            "cell_type": "code",
            "execution_count": 166,
            "metadata": {},
            "outputs": [
                {
                    "data": {
                        "text/html": [
                            "<div>\n",
                            "<style scoped>\n",
                            "    .dataframe tbody tr th:only-of-type {\n",
                            "        vertical-align: middle;\n",
                            "    }\n",
                            "\n",
                            "    .dataframe tbody tr th {\n",
                            "        vertical-align: top;\n",
                            "    }\n",
                            "\n",
                            "    .dataframe thead th {\n",
                            "        text-align: right;\n",
                            "    }\n",
                            "</style>\n",
                            "<table border=\"1\" class=\"dataframe\">\n",
                            "  <thead>\n",
                            "    <tr style=\"text-align: right;\">\n",
                            "      <th></th>\n",
                            "      <th>review</th>\n",
                            "      <th>polarity</th>\n",
                            "      <th>sentiment</th>\n",
                            "    </tr>\n",
                            "  </thead>\n",
                            "  <tbody>\n",
                            "    <tr>\n",
                            "      <th>0</th>\n",
                            "      <td>privacy at least put some option appear offlin...</td>\n",
                            "      <td>0</td>\n",
                            "      <td>positivo</td>\n",
                            "    </tr>\n",
                            "    <tr>\n",
                            "      <th>1</th>\n",
                            "      <td>messenger issues ever since the last update, i...</td>\n",
                            "      <td>0</td>\n",
                            "      <td>negativo</td>\n",
                            "    </tr>\n",
                            "    <tr>\n",
                            "      <th>2</th>\n",
                            "      <td>profile any time my wife or anybody has more t...</td>\n",
                            "      <td>0</td>\n",
                            "      <td>positivo</td>\n",
                            "    </tr>\n",
                            "    <tr>\n",
                            "      <th>3</th>\n",
                            "      <td>the new features suck for those of us who don'...</td>\n",
                            "      <td>0</td>\n",
                            "      <td>positivo</td>\n",
                            "    </tr>\n",
                            "    <tr>\n",
                            "      <th>4</th>\n",
                            "      <td>forced reload on uploading pic on replying com...</td>\n",
                            "      <td>0</td>\n",
                            "      <td>positivo</td>\n",
                            "    </tr>\n",
                            "    <tr>\n",
                            "      <th>...</th>\n",
                            "      <td>...</td>\n",
                            "      <td>...</td>\n",
                            "      <td>...</td>\n",
                            "    </tr>\n",
                            "    <tr>\n",
                            "      <th>886</th>\n",
                            "      <td>loved it i loooooooooooooovvved it because it ...</td>\n",
                            "      <td>1</td>\n",
                            "      <td>positivo</td>\n",
                            "    </tr>\n",
                            "    <tr>\n",
                            "      <th>887</th>\n",
                            "      <td>all time legendary game the birthday party lev...</td>\n",
                            "      <td>1</td>\n",
                            "      <td>negativo</td>\n",
                            "    </tr>\n",
                            "    <tr>\n",
                            "      <th>888</th>\n",
                            "      <td>ads are way to heavy listen to the bad reviews...</td>\n",
                            "      <td>0</td>\n",
                            "      <td>negativo</td>\n",
                            "    </tr>\n",
                            "    <tr>\n",
                            "      <th>889</th>\n",
                            "      <td>fun works perfectly well. ads aren't as annoyi...</td>\n",
                            "      <td>1</td>\n",
                            "      <td>positivo</td>\n",
                            "    </tr>\n",
                            "    <tr>\n",
                            "      <th>890</th>\n",
                            "      <td>they're everywhere i see angry birds everywher...</td>\n",
                            "      <td>1</td>\n",
                            "      <td>positivo</td>\n",
                            "    </tr>\n",
                            "  </tbody>\n",
                            "</table>\n",
                            "<p>891 rows × 3 columns</p>\n",
                            "</div>"
                        ],
                        "text/plain": [
                            "                                                review  polarity sentiment\n",
                            "0    privacy at least put some option appear offlin...         0  positivo\n",
                            "1    messenger issues ever since the last update, i...         0  negativo\n",
                            "2    profile any time my wife or anybody has more t...         0  positivo\n",
                            "3    the new features suck for those of us who don'...         0  positivo\n",
                            "4    forced reload on uploading pic on replying com...         0  positivo\n",
                            "..                                                 ...       ...       ...\n",
                            "886  loved it i loooooooooooooovvved it because it ...         1  positivo\n",
                            "887  all time legendary game the birthday party lev...         1  negativo\n",
                            "888  ads are way to heavy listen to the bad reviews...         0  negativo\n",
                            "889  fun works perfectly well. ads aren't as annoyi...         1  positivo\n",
                            "890  they're everywhere i see angry birds everywher...         1  positivo\n",
                            "\n",
                            "[891 rows x 3 columns]"
                        ]
                    },
                    "execution_count": 166,
                    "metadata": {},
                    "output_type": "execute_result"
                }
            ],
            "source": [
                "# Crear columna 'sentiment' aleatoria para ejemplo (positivo/negativo)\n",
                "np.random.seed(42)\n",
                "total_data['sentiment'] = np.random.choice(['positivo', 'negativo'], size=len(total_data))\n",
                "total_data"
            ]
        },
        {
            "cell_type": "code",
            "execution_count": 167,
            "metadata": {},
            "outputs": [
                {
                    "name": "stdout",
                    "output_type": "stream",
                    "text": [
                        "Accuracy: 0.5586592178770949\n",
                        "Reporte de clasificación:\n",
                        "              precision    recall  f1-score   support\n",
                        "\n",
                        "    negativo       0.57      0.60      0.58        92\n",
                        "    positivo       0.55      0.52      0.53        87\n",
                        "\n",
                        "    accuracy                           0.56       179\n",
                        "   macro avg       0.56      0.56      0.56       179\n",
                        "weighted avg       0.56      0.56      0.56       179\n",
                        "\n",
                        "              precision    recall  f1-score   support\n",
                        "\n",
                        "    negativo       0.57      0.60      0.58        92\n",
                        "    positivo       0.55      0.52      0.53        87\n",
                        "\n",
                        "    accuracy                           0.56       179\n",
                        "   macro avg       0.56      0.56      0.56       179\n",
                        "weighted avg       0.56      0.56      0.56       179\n",
                        "\n"
                    ]
                }
            ],
            "source": [
                "\n",
                "# GaussianNB\n",
                "\n",
                "total_data_GaussianNB = total_data.copy()\n",
                "\n",
                "# Vectorizar texto\n",
                "vectorizer = CountVectorizer()\n",
                "X_counts_GaussianNB = vectorizer.fit_transform(total_data_GaussianNB['review'])\n",
                "\n",
                "# Convertir matriz dispersa a densa para GaussianNB\n",
                "X_dense_GaussianNB = X_counts_GaussianNB.toarray()\n",
                "\n",
                "# Dividir datos\n",
                "x_train, x_test, y_train, y_test = train_test_split(X_dense_GaussianNB, total_data_GaussianNB['sentiment'], test_size=0.2, random_state=42)\n",
                "\n",
                "# Entrenar GaussianNB\n",
                "gnb = GaussianNB()\n",
                "gnb.fit(x_train, y_train)\n",
                "y_pred = gnb.predict(x_test)\n",
                "\n",
                "# Evaluar\n",
                "print(\"Accuracy:\", accuracy_score(y_test, y_pred))\n",
                "print(\"Reporte de clasificación:\")\n",
                "print(classification_report(y_test, y_pred))\n",
                "print(classification_report(y_test, y_pred))"
            ]
        },
        {
            "cell_type": "code",
            "execution_count": 168,
            "metadata": {},
            "outputs": [
                {
                    "name": "stdout",
                    "output_type": "stream",
                    "text": [
                        "Accuracy: 0.49162011173184356\n",
                        "Reporte de clasificación:\n",
                        "              precision    recall  f1-score   support\n",
                        "\n",
                        "    negativo       0.51      0.51      0.51        92\n",
                        "    positivo       0.48      0.47      0.47        87\n",
                        "\n",
                        "    accuracy                           0.49       179\n",
                        "   macro avg       0.49      0.49      0.49       179\n",
                        "weighted avg       0.49      0.49      0.49       179\n",
                        "\n"
                    ]
                }
            ],
            "source": [
                "# MultinomialNB\n",
                "total_data_MultinomialNB = total_data.copy()\n",
                "\n",
                "# Vectorizar texto\n",
                "vectorizer = CountVectorizer()\n",
                "X_counts_MultinomialNB = vectorizer.fit_transform(total_data_MultinomialNB['review'])\n",
                "\n",
                "# Dividir datos\n",
                "x_train, x_test, y_train, y_test = train_test_split(\n",
                "    X_counts_MultinomialNB, total_data_MultinomialNB['sentiment'], test_size=0.2, random_state=42)\n",
                "\n",
                "# Entrenar MultinomialNB\n",
                "mnb = MultinomialNB()\n",
                "mnb.fit(x_train, y_train)\n",
                "y_pred = mnb.predict(x_test)\n",
                "\n",
                "# Evaluar\n",
                "print(\"Accuracy:\", accuracy_score(y_test, y_pred))\n",
                "print(\"Reporte de clasificación:\")\n",
                "print(classification_report(y_test, y_pred))"
            ]
        },
        {
            "cell_type": "code",
            "execution_count": 169,
            "metadata": {},
            "outputs": [
                {
                    "name": "stdout",
                    "output_type": "stream",
                    "text": [
                        "Accuracy: 0.5139664804469274\n",
                        "Reporte de clasificación:\n",
                        "              precision    recall  f1-score   support\n",
                        "\n",
                        "    negativo       0.52      0.60      0.56        92\n",
                        "    positivo       0.50      0.43      0.46        87\n",
                        "\n",
                        "    accuracy                           0.51       179\n",
                        "   macro avg       0.51      0.51      0.51       179\n",
                        "weighted avg       0.51      0.51      0.51       179\n",
                        "\n"
                    ]
                }
            ],
            "source": [
                "# BernoulliNB\n",
                "\n",
                "total_data_BernoulliNB = total_data.copy()\n",
                "\n",
                "# Vectorizar texto\n",
                "vectorizer = CountVectorizer(binary=True)  # BernoulliNB usa datos binarios\n",
                "X_counts_BernoulliNB = vectorizer.fit_transform(total_data_BernoulliNB['review'])\n",
                "\n",
                "# Dividir datos\n",
                "x_train_BernoulliNB, x_test_BernoulliNB, y_train, y_test = train_test_split(\n",
                "    X_counts_BernoulliNB, total_data_BernoulliNB['sentiment'], test_size=0.2, random_state=42)\n",
                "\n",
                "# Entrenar BernoulliNB\n",
                "bnb = BernoulliNB()\n",
                "bnb.fit(x_train_BernoulliNB, y_train)\n",
                "y_pred = bnb.predict(x_test_BernoulliNB)\n",
                "\n",
                "# Evaluar\n",
                "print(\"Accuracy:\", accuracy_score(y_test, y_pred))\n",
                "print(\"Reporte de clasificación:\")\n",
                "print(classification_report(y_test, y_pred))"
            ]
        },
        {
            "cell_type": "markdown",
            "metadata": {},
            "source": [
                "Analisis de resultados: usaremos GaussianNB que tuvo un mayor accurasy con 56% de acertividad con datos ficticios solo de entrenamiento."
            ]
        },
        {
            "cell_type": "code",
            "execution_count": null,
            "metadata": {},
            "outputs": [
                {
                    "name": "stdout",
                    "output_type": "stream",
                    "text": [
                        "Mejor accuracy en validación: 0.5280311238057717\n",
                        "Accuracy en test: 0.4860335195530726\n"
                    ]
                }
            ],
            "source": [
                "# Hiperparametrizacion de GaussianNB\n",
                "\n",
                "# Definir el modelo\n",
                "gnb = GaussianNB()\n",
                "\n",
                "\n",
                "param_grid = {'var_smoothing': np.logspace(0,-9, num=100)}\n",
                "\n",
                "# Configurar GridSearchCV\n",
                "grid_search = GridSearchCV(estimator=gnb, param_grid=param_grid, cv=5, scoring='accuracy', n_jobs=-1)\n",
                "\n",
                "# Ejecutar búsqueda\n",
                "grid_search.fit(x_train_dense, y_train_dense)\n",
                "\n",
                "# Mejor parámetro y mejor score\n",
                "\n",
                "print(\"Mejor accuracy en validación:\", grid_search.best_score_)\n",
                "\n",
                "# Evaluar en test con el mejor modelo\n",
                "best_gnb = grid_search.best_estimator_\n",
                "y_pred = best_gnb.predict(x_test_dense)\n",
                "print(\"Accuracy en test:\", accuracy_score(y_test_dense, y_pred))"
            ]
        }
    ],
    "metadata": {
        "kernelspec": {
            "display_name": "Python 3",
            "language": "python",
            "name": "python3"
        },
        "language_info": {
            "codemirror_mode": {
                "name": "ipython",
                "version": 3
            },
            "file_extension": ".py",
            "mimetype": "text/x-python",
            "name": "python",
            "nbconvert_exporter": "python",
            "pygments_lexer": "ipython3",
            "version": "3.12.10"
        },
        "orig_nbformat": 4
    },
    "nbformat": 4,
    "nbformat_minor": 2
}
