{
    "cells": [
        {
            "cell_type": "markdown",
            "metadata": {},
            "source": [
                "# Explore here"
            ]
        },
        {
            "cell_type": "code",
            "execution_count": 113,
            "metadata": {},
            "outputs": [],
            "source": [
                "import pandas as pd\n",
                "import matplotlib.pyplot as plt\n",
                "import seaborn as sns\n",
                "import numpy as np \n",
                "from sklearn.model_selection import train_test_split\n",
                "from sklearn.feature_extraction.text import CountVectorizer\n",
                "from sklearn.naive_bayes import BernoulliNB\n",
                "from sklearn.naive_bayes import GaussianNB\n",
                "from sklearn.naive_bayes import MultinomialNB\n",
                "from sklearn.metrics import accuracy_score , classification_report\n",
                "from sklearn.model_selection import GridSearchCV"
            ]
        },
        {
            "cell_type": "code",
            "execution_count": 114,
            "metadata": {},
            "outputs": [
                {
                    "data": {
                        "text/html": [
                            "<div>\n",
                            "<style scoped>\n",
                            "    .dataframe tbody tr th:only-of-type {\n",
                            "        vertical-align: middle;\n",
                            "    }\n",
                            "\n",
                            "    .dataframe tbody tr th {\n",
                            "        vertical-align: top;\n",
                            "    }\n",
                            "\n",
                            "    .dataframe thead th {\n",
                            "        text-align: right;\n",
                            "    }\n",
                            "</style>\n",
                            "<table border=\"1\" class=\"dataframe\">\n",
                            "  <thead>\n",
                            "    <tr style=\"text-align: right;\">\n",
                            "      <th></th>\n",
                            "      <th>package_name</th>\n",
                            "      <th>review</th>\n",
                            "      <th>polarity</th>\n",
                            "    </tr>\n",
                            "  </thead>\n",
                            "  <tbody>\n",
                            "    <tr>\n",
                            "      <th>0</th>\n",
                            "      <td>com.facebook.katana</td>\n",
                            "      <td>privacy at least put some option appear offli...</td>\n",
                            "      <td>0</td>\n",
                            "    </tr>\n",
                            "    <tr>\n",
                            "      <th>1</th>\n",
                            "      <td>com.facebook.katana</td>\n",
                            "      <td>messenger issues ever since the last update, ...</td>\n",
                            "      <td>0</td>\n",
                            "    </tr>\n",
                            "    <tr>\n",
                            "      <th>2</th>\n",
                            "      <td>com.facebook.katana</td>\n",
                            "      <td>profile any time my wife or anybody has more ...</td>\n",
                            "      <td>0</td>\n",
                            "    </tr>\n",
                            "    <tr>\n",
                            "      <th>3</th>\n",
                            "      <td>com.facebook.katana</td>\n",
                            "      <td>the new features suck for those of us who don...</td>\n",
                            "      <td>0</td>\n",
                            "    </tr>\n",
                            "    <tr>\n",
                            "      <th>4</th>\n",
                            "      <td>com.facebook.katana</td>\n",
                            "      <td>forced reload on uploading pic on replying co...</td>\n",
                            "      <td>0</td>\n",
                            "    </tr>\n",
                            "  </tbody>\n",
                            "</table>\n",
                            "</div>"
                        ],
                        "text/plain": [
                            "          package_name                                             review  \\\n",
                            "0  com.facebook.katana   privacy at least put some option appear offli...   \n",
                            "1  com.facebook.katana   messenger issues ever since the last update, ...   \n",
                            "2  com.facebook.katana   profile any time my wife or anybody has more ...   \n",
                            "3  com.facebook.katana   the new features suck for those of us who don...   \n",
                            "4  com.facebook.katana   forced reload on uploading pic on replying co...   \n",
                            "\n",
                            "   polarity  \n",
                            "0         0  \n",
                            "1         0  \n",
                            "2         0  \n",
                            "3         0  \n",
                            "4         0  "
                        ]
                    },
                    "execution_count": 114,
                    "metadata": {},
                    "output_type": "execute_result"
                }
            ],
            "source": [
                "url = \"https://raw.githubusercontent.com/4GeeksAcademy/naive-bayes-project-tutorial/main/playstore_reviews.csv\"\n",
                "total_data = pd.read_csv(url, sep= ',')  \n",
                "\n",
                "total_data.head()"
            ]
        },
        {
            "cell_type": "code",
            "execution_count": 115,
            "metadata": {},
            "outputs": [
                {
                    "name": "stdout",
                    "output_type": "stream",
                    "text": [
                        "Variables numéricas: ['polarity']\n",
                        "Variables no numéricas: ['package_name', 'review']\n"
                    ]
                }
            ],
            "source": [
                "target = 'review'\n",
                "# Variables numéricas\n",
                "numericas = total_data.select_dtypes(include=['number']).columns.tolist()\n",
                "print(\"Variables numéricas:\", numericas)\n",
                "\n",
                "# Variables no numéricas (categóricas, texto, etc.)\n",
                "no_numericas = total_data.select_dtypes(exclude=['number']).columns.tolist()\n",
                "print(\"Variables no numéricas:\", no_numericas)"
            ]
        },
        {
            "cell_type": "code",
            "execution_count": 116,
            "metadata": {},
            "outputs": [
                {
                    "data": {
                        "text/html": [
                            "<div>\n",
                            "<style scoped>\n",
                            "    .dataframe tbody tr th:only-of-type {\n",
                            "        vertical-align: middle;\n",
                            "    }\n",
                            "\n",
                            "    .dataframe tbody tr th {\n",
                            "        vertical-align: top;\n",
                            "    }\n",
                            "\n",
                            "    .dataframe thead th {\n",
                            "        text-align: right;\n",
                            "    }\n",
                            "</style>\n",
                            "<table border=\"1\" class=\"dataframe\">\n",
                            "  <thead>\n",
                            "    <tr style=\"text-align: right;\">\n",
                            "      <th></th>\n",
                            "      <th>package_name</th>\n",
                            "      <th>review</th>\n",
                            "      <th>polarity</th>\n",
                            "    </tr>\n",
                            "  </thead>\n",
                            "  <tbody>\n",
                            "    <tr>\n",
                            "      <th>0</th>\n",
                            "      <td>com.facebook.katana</td>\n",
                            "      <td>privacy at least put some option appear offlin...</td>\n",
                            "      <td>0</td>\n",
                            "    </tr>\n",
                            "    <tr>\n",
                            "      <th>1</th>\n",
                            "      <td>com.facebook.katana</td>\n",
                            "      <td>messenger issues ever since the last update, i...</td>\n",
                            "      <td>0</td>\n",
                            "    </tr>\n",
                            "    <tr>\n",
                            "      <th>2</th>\n",
                            "      <td>com.facebook.katana</td>\n",
                            "      <td>profile any time my wife or anybody has more t...</td>\n",
                            "      <td>0</td>\n",
                            "    </tr>\n",
                            "    <tr>\n",
                            "      <th>3</th>\n",
                            "      <td>com.facebook.katana</td>\n",
                            "      <td>the new features suck for those of us who don'...</td>\n",
                            "      <td>0</td>\n",
                            "    </tr>\n",
                            "    <tr>\n",
                            "      <th>4</th>\n",
                            "      <td>com.facebook.katana</td>\n",
                            "      <td>forced reload on uploading pic on replying com...</td>\n",
                            "      <td>0</td>\n",
                            "    </tr>\n",
                            "    <tr>\n",
                            "      <th>...</th>\n",
                            "      <td>...</td>\n",
                            "      <td>...</td>\n",
                            "      <td>...</td>\n",
                            "    </tr>\n",
                            "    <tr>\n",
                            "      <th>886</th>\n",
                            "      <td>com.rovio.angrybirds</td>\n",
                            "      <td>loved it i loooooooooooooovvved it because it ...</td>\n",
                            "      <td>1</td>\n",
                            "    </tr>\n",
                            "    <tr>\n",
                            "      <th>887</th>\n",
                            "      <td>com.rovio.angrybirds</td>\n",
                            "      <td>all time legendary game the birthday party lev...</td>\n",
                            "      <td>1</td>\n",
                            "    </tr>\n",
                            "    <tr>\n",
                            "      <th>888</th>\n",
                            "      <td>com.rovio.angrybirds</td>\n",
                            "      <td>ads are way to heavy listen to the bad reviews...</td>\n",
                            "      <td>0</td>\n",
                            "    </tr>\n",
                            "    <tr>\n",
                            "      <th>889</th>\n",
                            "      <td>com.rovio.angrybirds</td>\n",
                            "      <td>fun works perfectly well. ads aren't as annoyi...</td>\n",
                            "      <td>1</td>\n",
                            "    </tr>\n",
                            "    <tr>\n",
                            "      <th>890</th>\n",
                            "      <td>com.rovio.angrybirds</td>\n",
                            "      <td>they're everywhere i see angry birds everywher...</td>\n",
                            "      <td>1</td>\n",
                            "    </tr>\n",
                            "  </tbody>\n",
                            "</table>\n",
                            "<p>891 rows × 3 columns</p>\n",
                            "</div>"
                        ],
                        "text/plain": [
                            "             package_name                                             review  \\\n",
                            "0     com.facebook.katana  privacy at least put some option appear offlin...   \n",
                            "1     com.facebook.katana  messenger issues ever since the last update, i...   \n",
                            "2     com.facebook.katana  profile any time my wife or anybody has more t...   \n",
                            "3     com.facebook.katana  the new features suck for those of us who don'...   \n",
                            "4     com.facebook.katana  forced reload on uploading pic on replying com...   \n",
                            "..                    ...                                                ...   \n",
                            "886  com.rovio.angrybirds  loved it i loooooooooooooovvved it because it ...   \n",
                            "887  com.rovio.angrybirds  all time legendary game the birthday party lev...   \n",
                            "888  com.rovio.angrybirds  ads are way to heavy listen to the bad reviews...   \n",
                            "889  com.rovio.angrybirds  fun works perfectly well. ads aren't as annoyi...   \n",
                            "890  com.rovio.angrybirds  they're everywhere i see angry birds everywher...   \n",
                            "\n",
                            "     polarity  \n",
                            "0           0  \n",
                            "1           0  \n",
                            "2           0  \n",
                            "3           0  \n",
                            "4           0  \n",
                            "..        ...  \n",
                            "886         1  \n",
                            "887         1  \n",
                            "888         0  \n",
                            "889         1  \n",
                            "890         1  \n",
                            "\n",
                            "[891 rows x 3 columns]"
                        ]
                    },
                    "execution_count": 116,
                    "metadata": {},
                    "output_type": "execute_result"
                }
            ],
            "source": [
                "total_data[\"review\"] = total_data[\"review\"].str.strip().str.lower()\n",
                "total_data\n"
            ]
        },
        {
            "cell_type": "code",
            "execution_count": 117,
            "metadata": {},
            "outputs": [
                {
                    "data": {
                        "text/plain": [
                            "(891, 3)"
                        ]
                    },
                    "execution_count": 117,
                    "metadata": {},
                    "output_type": "execute_result"
                }
            ],
            "source": [
                "total_data.shape"
            ]
        },
        {
            "cell_type": "code",
            "execution_count": 118,
            "metadata": {},
            "outputs": [
                {
                    "name": "stdout",
                    "output_type": "stream",
                    "text": [
                        "<class 'pandas.core.frame.DataFrame'>\n",
                        "RangeIndex: 891 entries, 0 to 890\n",
                        "Data columns (total 3 columns):\n",
                        " #   Column        Non-Null Count  Dtype \n",
                        "---  ------        --------------  ----- \n",
                        " 0   package_name  891 non-null    object\n",
                        " 1   review        891 non-null    object\n",
                        " 2   polarity      891 non-null    int64 \n",
                        "dtypes: int64(1), object(2)\n",
                        "memory usage: 21.0+ KB\n"
                    ]
                }
            ],
            "source": [
                "total_data.info()"
            ]
        },
        {
            "cell_type": "code",
            "execution_count": 119,
            "metadata": {},
            "outputs": [
                {
                    "data": {
                        "text/plain": [
                            "package_name    0\n",
                            "review          0\n",
                            "polarity        0\n",
                            "dtype: int64"
                        ]
                    },
                    "execution_count": 119,
                    "metadata": {},
                    "output_type": "execute_result"
                }
            ],
            "source": [
                "# VERIFICO SI HAY DATOS NULOS \n",
                "total_data.isnull().sum().sort_values(ascending=False)"
            ]
        },
        {
            "cell_type": "code",
            "execution_count": 120,
            "metadata": {},
            "outputs": [
                {
                    "name": "stdout",
                    "output_type": "stream",
                    "text": [
                        "                   package_name  \\\n",
                        "212  com.supercell.clashofclans   \n",
                        "222  com.supercell.clashofclans   \n",
                        "\n",
                        "                                                review  polarity  \n",
                        "212  this update sucks!!! i can't open the game any...         0  \n",
                        "222  this update sucks!!! i can't open the game any...         0  \n"
                    ]
                }
            ],
            "source": [
                "duplicados = total_data[total_data.duplicated(keep=False)]\n",
                "\n",
                "print(duplicados)"
            ]
        },
        {
            "cell_type": "code",
            "execution_count": 121,
            "metadata": {},
            "outputs": [
                {
                    "name": "stdout",
                    "output_type": "stream",
                    "text": [
                        "890\n"
                    ]
                }
            ],
            "source": [
                "total_data = total_data.drop_duplicates()\n",
                "print(len(total_data))"
            ]
        },
        {
            "cell_type": "code",
            "execution_count": 122,
            "metadata": {},
            "outputs": [
                {
                    "name": "stderr",
                    "output_type": "stream",
                    "text": [
                        "C:\\Users\\pedro\\AppData\\Local\\Temp\\ipykernel_14532\\2927254163.py:2: SettingWithCopyWarning: \n",
                        "A value is trying to be set on a copy of a slice from a DataFrame\n",
                        "\n",
                        "See the caveats in the documentation: https://pandas.pydata.org/pandas-docs/stable/user_guide/indexing.html#returning-a-view-versus-a-copy\n",
                        "  total_data.drop(['package_name'], axis = 1, inplace = True)\n"
                    ]
                },
                {
                    "data": {
                        "text/plain": [
                            "(890, 2)"
                        ]
                    },
                    "execution_count": 122,
                    "metadata": {},
                    "output_type": "execute_result"
                }
            ],
            "source": [
                "#VARIABLES A ELIMINAR \n",
                "total_data.drop(['package_name'], axis = 1, inplace = True)\n",
                "total_data.shape"
            ]
        },
        {
            "cell_type": "code",
            "execution_count": 123,
            "metadata": {},
            "outputs": [
                {
                    "name": "stdout",
                    "output_type": "stream",
                    "text": [
                        "     polarity\n",
                        "709         0\n",
                        "240         0\n",
                        "382         0\n",
                        "793         1\n",
                        "673         1\n",
                        "..        ...\n",
                        "106         0\n",
                        "271         0\n",
                        "861         0\n",
                        "436         0\n",
                        "102         0\n",
                        "\n",
                        "[712 rows x 1 columns]\n",
                        "     polarity\n",
                        "281         0\n",
                        "435         0\n",
                        "39          0\n",
                        "418         0\n",
                        "586         1\n",
                        "..        ...\n",
                        "433         0\n",
                        "773         0\n",
                        "25          0\n",
                        "84          0\n",
                        "10          0\n",
                        "\n",
                        "[178 rows x 1 columns]\n"
                    ]
                }
            ],
            "source": [
                "x = total_data.drop(columns=[target])\n",
                "y = total_data[target]\n",
                "\n",
                "x_train_total_data, x_test_total_data, y_train, y_test = train_test_split(x, y, test_size=0.2, random_state=42)\n",
                "print(x_train_total_data)\n",
                "print(x_test_total_data)\n"
            ]
        },
        {
            "cell_type": "code",
            "execution_count": 124,
            "metadata": {},
            "outputs": [
                {
                    "name": "stdout",
                    "output_type": "stream",
                    "text": [
                        "Matriz de recuento de palabras (shape): (890, 3768)\n",
                        "[[0 0 0 0 0 0 0 0 0 0]\n",
                        " [0 0 0 0 0 0 0 0 0 0]\n",
                        " [0 0 0 0 0 0 0 0 0 0]\n",
                        " [0 0 0 0 0 0 0 0 0 0]\n",
                        " [0 0 0 0 0 0 0 0 0 0]]\n"
                    ]
                }
            ],
            "source": [
                "vec_model = CountVectorizer(stop_words = \"english\" , max_features=10000, lowercase=True, token_pattern=r'\\b\\w+\\b' ) \n",
                "X_train = vec_model.fit_transform(x_train_total_data).toarray()\n",
                "X_test = vec_model.transform(x_test_total_data).toarray()\n",
                "\n",
                "text_data = total_data['review']\n",
                "\n",
                "X_counts = vec_model.fit_transform(text_data)\n",
                "\n",
                "print(\"Matriz de recuento de palabras (shape):\", X_counts.shape)\n",
                "print(X_counts[:5,:10].toarray())"
            ]
        },
        {
            "cell_type": "code",
            "execution_count": 125,
            "metadata": {},
            "outputs": [
                {
                    "name": "stdout",
                    "output_type": "stream",
                    "text": [
                        "Accuracy MultinomialNB: 0.8314606741573034\n",
                        "Accuracy BernoulliNB: 0.8426966292134831\n",
                        "Accuracy GaussianNB: 0.8033707865168539\n"
                    ]
                }
            ],
            "source": [
                "# ESTUDIO DE MODELOS \n",
                "\n",
                "# Vectorizar texto\n",
                "vectorizer = CountVectorizer()\n",
                "X_counts = vectorizer.fit_transform(total_data['review'])\n",
                "\n",
                "# Dividir datos\n",
                "x_train, x_test, y_train, y_test = train_test_split(X_counts, total_data['polarity'], test_size=0.2, random_state=42)\n",
                "\n",
                "# MultinomialNB\n",
                "mnb = MultinomialNB() # stratify=y balancea clases\n",
                "mnb.fit(x_train, y_train)\n",
                "y_pred_mnb = mnb.predict(x_test)\n",
                "acc_mnb = accuracy_score(y_test, y_pred_mnb)\n",
                "\n",
                "# BernoulliNB (usa datos binarios)\n",
                "vectorizer_bin = CountVectorizer(binary=True)\n",
                "X_counts_bin = vectorizer_bin.fit_transform(total_data['review'])\n",
                "x_train_bin, x_test_bin, y_train_bin, y_test_bin = train_test_split(X_counts_bin, total_data['polarity'], test_size=0.2, random_state=42)\n",
                "bnb = BernoulliNB()\n",
                "bnb.fit(x_train_bin, y_train_bin)\n",
                "y_pred_bnb = bnb.predict(x_test_bin)\n",
                "acc_bnb = accuracy_score(y_test_bin, y_pred_bnb)\n",
                "\n",
                "# GaussianNB (requiere matriz densa)\n",
                "X_dense = X_counts.toarray()  # convertir a matriz densa\n",
                "x_train_dense, x_test_dense, y_train_dense, y_test_dense = train_test_split(X_dense, total_data['polarity'], test_size=0.2, random_state=42)\n",
                "gnb = GaussianNB()\n",
                "gnb.fit(x_train_dense, y_train_dense)\n",
                "y_pred_gnb = gnb.predict(x_test_dense)\n",
                "acc_gnb = accuracy_score(y_test_dense, y_pred_gnb)\n",
                "\n",
                "print(\"Accuracy MultinomialNB:\", acc_mnb)\n",
                "print(\"Accuracy BernoulliNB:\", acc_bnb)\n",
                "print(\"Accuracy GaussianNB:\", acc_gnb)"
            ]
        },
        {
            "cell_type": "markdown",
            "metadata": {},
            "source": [
                "Analisis de resultados: usaremos BernoulliNB que tuvo un mayor accurasy con 84,2% "
            ]
        },
        {
            "cell_type": "code",
            "execution_count": 130,
            "metadata": {},
            "outputs": [
                {
                    "name": "stdout",
                    "output_type": "stream",
                    "text": [
                        "Mejor accuracy en validación (CV): 0.8201910765291046\n",
                        "Accuracy en test: 0.848314606741573\n",
                        "Reporte de clasificación:\n",
                        "              precision    recall  f1-score   support\n",
                        "\n",
                        "           0       0.90      0.88      0.89       128\n",
                        "           1       0.72      0.76      0.74        50\n",
                        "\n",
                        "    accuracy                           0.85       178\n",
                        "   macro avg       0.81      0.82      0.82       178\n",
                        "weighted avg       0.85      0.85      0.85       178\n",
                        "\n"
                    ]
                }
            ],
            "source": [
                "# Modelo y grid de hiperparámetros MultinomialNB\n",
                "mnb = MultinomialNB()\n",
                "param_grid = {\n",
                "    'alpha': np.logspace(-3, 1, 20),   # suavizado Laplace\n",
                "    'fit_prior': [True, False]         # usar o no priors\n",
                "}\n",
                "\n",
                "grid = GridSearchCV(\n",
                "    estimator=mnb,\n",
                "    param_grid=param_grid,\n",
                "    cv=5,\n",
                "    scoring='accuracy',\n",
                "    n_jobs=-1\n",
                ")\n",
                "\n",
                "grid.fit(x_train, y_train)# Entrenar \n",
                "\n",
                "# Resultados\n",
                "print(\"Mejor accuracy en validación (CV):\", grid.best_score_)\n",
                "\n",
                "# Evaluación en test\n",
                "best_mnb = grid.best_estimator_\n",
                "y_pred = best_mnb.predict(x_test)\n",
                "print(\"Accuracy en test:\", accuracy_score(y_test, y_pred))\n",
                "print(\"Reporte de clasificación:\")\n",
                "print(classification_report(y_test, y_pred))"
            ]
        },
        {
            "cell_type": "markdown",
            "metadata": {},
            "source": [
                "Analisis de resultado: El Modelo mejoro a un 85% de acertividad"
            ]
        }
    ],
    "metadata": {
        "kernelspec": {
            "display_name": "Python 3",
            "language": "python",
            "name": "python3"
        },
        "language_info": {
            "codemirror_mode": {
                "name": "ipython",
                "version": 3
            },
            "file_extension": ".py",
            "mimetype": "text/x-python",
            "name": "python",
            "nbconvert_exporter": "python",
            "pygments_lexer": "ipython3",
            "version": "3.12.10"
        },
        "orig_nbformat": 4
    },
    "nbformat": 4,
    "nbformat_minor": 2
}
